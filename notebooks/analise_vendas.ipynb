{
 "cells": [
  {
   "cell_type": "code",
   "source": [
    "import pandas as pd\n",
    "import matplotlib.pyplot as plt\n",
    "\n",
    "# Carregar os dados\n",
    "df = pd.read_csv('../data/vendas.csv')\n",
    "df['Data'] = pd.to_datetime(df['Data'])\n",
    "df['Faturamento'] = df['Preço'] * df['Quantidade']\n",
    "\n",
    "# Faturamento por cidade\n",
    "df.groupby('Cidade')['Faturamento'].sum().plot(kind='bar', title='Faturamento por Cidade')\n",
    "plt.ylabel('R$')\n",
    "plt.show()\n",
    "\n",
    "# Faturamento por categoria\n",
    "df.groupby('Categoria')['Faturamento'].sum().plot(kind='pie', autopct='%1.1f%%', title='Faturamento por Categoria')\n",
    "plt.ylabel('')\n",
    "plt.show()\n",
    "\n",
    "# Produto mais vendido\n",
    "produto_mais_vendido = df.groupby('Produto')['Quantidade'].sum().sort_values(ascending=False)\n",
    "produto_mais_vendido.plot(kind='bar', title='Produtos Mais Vendidos')\n",
    "plt.ylabel('Quantidade')\n",
    "plt.show()\n",
    "\n",
    "# Evolução do faturamento\n",
    "df.groupby('Data')['Faturamento'].sum().plot(kind='line', marker='o', title='Faturamento ao Longo do Tempo')\n",
    "plt.ylabel('R$')\n",
    "plt.show()"
   ],
   "metadata": {},
   "execution_count": None,
   "outputs": []
  }
 ],
 "metadata": {
  "kernelspec": {
   "display_name": "Python 3",
   "language": "python",
   "name": "python3"
  },
  "language_info": {
   "name": "python",
   "version": "3.8"
  }
 },
 "nbformat": 4,
 "nbformat_minor": 5
}